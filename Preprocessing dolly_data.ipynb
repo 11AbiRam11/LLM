{
 "cells": [
  {
   "cell_type": "code",
   "execution_count": 278,
   "id": "89159f04-20fd-41f3-b52e-3953fc52c052",
   "metadata": {},
   "outputs": [],
   "source": [
    "with open(\"./TrainingData/dolly_data.txt\", 'r', encoding='utf8') as f:\n",
    "    raw_text = f.read()"
   ]
  },
  {
   "cell_type": "code",
   "execution_count": 279,
   "id": "fd934a76-8883-45b2-be2a-682b96048ec0",
   "metadata": {},
   "outputs": [
    {
     "data": {
      "text/plain": [
       "\"When did Virgin Australia start operating? Virgin Australia, the trading name of Virgin Australia Airlines Pty Ltd, is an Australian-based airline. It is the largest airline by fleet size to use the Virgin brand. It commenced services on 31 August 2000 as Virgin Blue, with two aircraft on a single route. It suddenly found itself as a major airline in Australia's domestic market after the collapse of Ansett Australia in September 2001. The airline has since grown to directly serve 32 cities in Australia, from hubs in Brisbane, Melbourne and Sydney. Virgin Australia commenced services on 31 August 2000 as Virgin Blue, with two aircraft on a single route.<|endoftext|> Which is a species of fish? Tope or Rope Tope<|endoftext|> Why can camels survive for long without water? Camels use the fat in their humps to keep them filled with energy and hydration for long periods of time.<|endoftext|> Alice's parents have three daughters: Amy, Jessy, and what’s the name of the third daughter? The name\""
      ]
     },
     "execution_count": 279,
     "metadata": {},
     "output_type": "execute_result"
    }
   ],
   "source": [
    "raw_text[:1000]"
   ]
  },
  {
   "cell_type": "code",
   "execution_count": 236,
   "id": "94bca49a-1c2d-4124-a914-15b3e97b4566",
   "metadata": {},
   "outputs": [
    {
     "data": {
      "text/plain": [
       "\"Instruction: When did Virgin Australia start operating? Context: Virgin Australia, the trading name of Virgin Australia Airlines Pty Ltd, is an Australian-based airline. It is the largest airline by fleet size to use the Virgin brand. It commenced services on 31 August 2000 as Virgin Blue, with two aircraft on a single route. It suddenly found itself as a major airline in Australia's domestic market after the collapse of Ansett Australia in September 2001. The airline has since grown to directly serve 32 cities in Australia, from hubs in Brisbane, Melbourne and Sydney. Response: Virgin Australia commenced services on 31 August 2000 as Virgin Blue, with two aircraft on a single route.    Instruction: Which is a species of fish? Tope or Rope Response: Tope    Instruction: Why can camels survive for long without water? Response: Camels use the fat in their humps to keep them filled with energy and hydration for long periods of time.    Instruction: Alice's parents have three daughters: Am\""
      ]
     },
     "execution_count": 236,
     "metadata": {},
     "output_type": "execute_result"
    }
   ],
   "source": [
    "raw_text = raw_text.replace('---', '')\n",
    "raw_text = raw_text.replace('\\n','')\n",
    "raw_text[:1000]"
   ]
  },
  {
   "cell_type": "code",
   "execution_count": 237,
   "id": "36bb407d-8b51-4f3a-b6ed-d4de36d605a1",
   "metadata": {},
   "outputs": [],
   "source": [
    "with open(\"dolly_cleaned.txt\", 'r', encoding='utf8') as f:\n",
    "    raw_text = f.read()"
   ]
  },
  {
   "cell_type": "code",
   "execution_count": null,
   "id": "650aeb8f-cfbc-4950-834b-0a57243f554e",
   "metadata": {},
   "outputs": [],
   "source": [
    "cleaned = raw_text.replace('Instruction:', \"<|endoftext|>\")\n",
    "cleaned = cleaned.replace('Context:', '')\n",
    "cleaned = cleaned.replace('Response:', '')\n",
    "\n",
    "cleaned[:1058]"
   ]
  },
  {
   "cell_type": "code",
   "execution_count": 268,
   "id": "2d138d92-48da-40eb-86c2-d4c4cc1f2c2f",
   "metadata": {},
   "outputs": [],
   "source": [
    "with open(\"dolly_cleaned.txt\", 'w', encoding='utf8') as f:\n",
    "    f.write(cleaned)"
   ]
  },
  {
   "cell_type": "code",
   "execution_count": 272,
   "id": "b169905f-163b-4414-80d3-4b01007dd881",
   "metadata": {},
   "outputs": [],
   "source": [
    "with open(\"dolly_cleaned.txt\", 'r', encoding='utf8') as f:\n",
    "    text = f.read()"
   ]
  },
  {
   "cell_type": "code",
   "execution_count": 280,
   "id": "5ea4046e-c708-400f-84e9-ebfaa17ddd86",
   "metadata": {},
   "outputs": [],
   "source": [
    "with open(\"./TrainingData/dollyData_cleaned.txt\", 'r', encoding='utf8') as f:\n",
    "    raw_text = f.read()"
   ]
  },
  {
   "cell_type": "code",
   "execution_count": 281,
   "id": "785a67f0-81d7-4434-8f7e-760d4f97004b",
   "metadata": {},
   "outputs": [
    {
     "data": {
      "text/plain": [
       "\"When did Virgin Australia start operating? Virgin Australia, the trading name of Virgin Australia Airlines Pty Ltd, is an Australian-based airline. It is the largest airline by fleet size to use the Virgin brand. It commenced services on 31 August 2000 as Virgin Blue, with two aircraft on a single route. It suddenly found itself as a major airline in Australia's domestic market after the collapse of Ansett Australia in September 2001. The airline has since grown to directly serve 32 cities in Australia, from hubs in Brisbane, Melbourne and Sydney. Virgin Australia commenced services on 31 August 2000 as Virgin Blue, with two aircraft on a single route.<|endoftext|> Which is a species of fish? Tope or Rope Tope<|endoftext|> Why can camels survive for long without water? Camels use the fat in their humps to keep them filled with energy and hydration for long periods of time.<|endoftext|> Alice's parents have three daughters: Amy, Jessy, and what’s the name of the third daughter? The name\""
      ]
     },
     "execution_count": 281,
     "metadata": {},
     "output_type": "execute_result"
    }
   ],
   "source": [
    "raw_text[:1000]"
   ]
  },
  {
   "cell_type": "code",
   "execution_count": 289,
   "id": "3279482d-c400-405e-9304-39a0ca24283f",
   "metadata": {},
   "outputs": [],
   "source": [
    "cleaned = raw_text.replace('.<|endoftext|>', ' <|endoftext|>')\n",
    "cleaned = raw_text.replace('<|endoftext|>', ' <|endoftext|>')"
   ]
  },
  {
   "cell_type": "code",
   "execution_count": 290,
   "id": "5c3c734e-51fa-4257-ab53-a4064294bea3",
   "metadata": {},
   "outputs": [
    {
     "data": {
      "text/plain": [
       "\"When did Virgin Australia start operating? Virgin Australia, the trading name of Virgin Australia Airlines Pty Ltd, is an Australian-based airline. It is the largest airline by fleet size to use the Virgin brand. It commenced services on 31 August 2000 as Virgin Blue, with two aircraft on a single route. It suddenly found itself as a major airline in Australia's domestic market after the collapse of Ansett Australia in September 2001. The airline has since grown to directly serve 32 cities in Australia, from hubs in Brisbane, Melbourne and Sydney. Virgin Australia commenced services on 31 August 2000 as Virgin Blue, with two aircraft on a single route. <|endoftext|> Which is a species of fish? Tope or Rope Tope <|endoftext|> Why can camels survive for long without water? Camels use the fat in their humps to keep them filled with energy and hydration for long periods of time. <|endoftext|> Alice's parents have three daughters: Amy, Jessy, and what’s the name of the third daughter? The n\""
      ]
     },
     "execution_count": 290,
     "metadata": {},
     "output_type": "execute_result"
    }
   ],
   "source": [
    "cleaned[:1000]"
   ]
  },
  {
   "cell_type": "code",
   "execution_count": 291,
   "id": "82d6700b-8ff2-4288-885d-b2ce0e1ec382",
   "metadata": {},
   "outputs": [],
   "source": [
    "with open(\"dollyData_cleaned1.txt\" , 'w', encoding='utf8') as f:\n",
    "    f.write(cleaned)"
   ]
  },
  {
   "cell_type": "code",
   "execution_count": null,
   "id": "a16349ba-2774-4ae5-bc0c-20929833a2a6",
   "metadata": {},
   "outputs": [],
   "source": []
  }
 ],
 "metadata": {
  "kernelspec": {
   "display_name": "Python 3 (ipykernel)",
   "language": "python",
   "name": "python3"
  },
  "language_info": {
   "codemirror_mode": {
    "name": "ipython",
    "version": 3
   },
   "file_extension": ".py",
   "mimetype": "text/x-python",
   "name": "python",
   "nbconvert_exporter": "python",
   "pygments_lexer": "ipython3",
   "version": "3.13.5"
  }
 },
 "nbformat": 4,
 "nbformat_minor": 5
}
