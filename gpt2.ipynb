{
 "cells": [
  {
   "cell_type": "code",
   "execution_count": 1,
   "id": "3d2c7605-5cdc-40a3-971a-89ea7e39bf4b",
   "metadata": {},
   "outputs": [],
   "source": [
    "import torch\n",
    "import torch.nn as nn\n",
    "import torch.nn.functional as F\n",
    "import tiktoken\n",
    "tokenizer = tiktoken.get_encoding(\"gpt2\")\n",
    "\n",
    "from torch.utils.data import Dataset, DataLoader\n",
    "import time\n",
    "from torch.cuda.amp import autocast, GradScaler"
   ]
  },
  {
   "cell_type": "code",
   "execution_count": 2,
   "id": "6a60eb3a-e66c-47d5-a5ff-adef88ec62f9",
   "metadata": {},
   "outputs": [],
   "source": [
    "cfg = {\n",
    "    \"vocab_size\" : 50257,\n",
    "    \"context_length\": 1024,\n",
    "    \"emb_dim\" : 768,\n",
    "    \"n_layers\" : 12,\n",
    "    \"n_heads\" : 12,\n",
    "    \"drop_out\" : 0.1,\n",
    "    \"qkv_bias\": True\n",
    "}"
   ]
  },
  {
   "cell_type": "markdown",
   "id": "21050e67-22ec-4edf-a751-07d7e6e7a41c",
   "metadata": {},
   "source": [
    "## Multi Head Attention"
   ]
  },
  {
   "cell_type": "code",
   "execution_count": 3,
   "id": "533efc2b-0a9a-4fca-ac62-47db9eac5df9",
   "metadata": {},
   "outputs": [],
   "source": [
    "class MultiHeadAttention(nn.Module):\n",
    "    def __init__(self, d_in, d_out, context_length, dropout, num_heads, qkv_bias=True):\n",
    "        super().__init__()\n",
    "        \n",
    "        assert (d_out % num_heads == 0), \"d_out must be divisible by num_heads\"\n",
    "\n",
    "        self.d_out = d_out\n",
    "        self.num_heads = num_heads\n",
    "        self.head_dim = d_out // num_heads # Reduce the projection dim to match desired output dim\n",
    "\n",
    "        self.W_query = nn.Linear(d_in, d_out, bias=qkv_bias)\n",
    "        self.W_key = nn.Linear(d_in, d_out, bias=qkv_bias)\n",
    "        self.W_value = nn.Linear(d_in, d_out, bias=qkv_bias)\n",
    "        self.out_proj = nn.Linear(d_out, d_out)  # Linear layer to combine head outputs\n",
    "        self.dropout = nn.Dropout(dropout)\n",
    "        self.register_buffer(\n",
    "            \"mask\",\n",
    "            torch.triu(torch.ones(context_length, context_length),\n",
    "                       diagonal=1)\n",
    "        )\n",
    "\n",
    "    def forward(self, x):\n",
    "        b, num_tokens, d_in = x.shape\n",
    "\n",
    "        keys = self.W_key(x) # Shape: (b, num_tokens, d_out)\n",
    "        queries = self.W_query(x)\n",
    "        values = self.W_value(x)\n",
    "\n",
    "        # We implicitly split the matrix by adding a `num_heads` dimension\n",
    "        # Unroll last dim: (b, num_tokens, d_out) -> (b, num_tokens, num_heads, head_dim)\n",
    "        keys = keys.view(b, num_tokens, self.num_heads, self.head_dim) \n",
    "        values = values.view(b, num_tokens, self.num_heads, self.head_dim)\n",
    "        queries = queries.view(b, num_tokens, self.num_heads, self.head_dim)\n",
    "\n",
    "        # Transpose: (b, num_tokens, num_heads, head_dim) -> (b, num_heads, num_tokens, head_dim)\n",
    "        keys = keys.transpose(1, 2)\n",
    "        queries = queries.transpose(1, 2)\n",
    "        values = values.transpose(1, 2)\n",
    "\n",
    "        # Compute scaled dot-product attention (aka self-attention) with a causal mask\n",
    "        attn_scores = queries @ keys.transpose(2, 3)  # Dot product for each head\n",
    "\n",
    "        # Original mask truncated to the number of tokens and converted to boolean\n",
    "        mask_bool = self.mask.bool()[:num_tokens, :num_tokens]\n",
    "\n",
    "        # Use the mask to fill attention scores\n",
    "        attn_scores.masked_fill_(mask_bool, float(\"-inf\"))\n",
    "        \n",
    "        attn_weights = torch.softmax(attn_scores / keys.shape[-1]**0.5, dim=-1)\n",
    "        attn_weights = self.dropout(attn_weights)\n",
    "\n",
    "        # Shape: (b, num_tokens, num_heads, head_dim)\n",
    "        context_vec = (attn_weights @ values).transpose(1, 2) \n",
    "        \n",
    "        # Combine heads, where self.d_out = self.num_heads * self.head_dim\n",
    "        context_vec = context_vec.contiguous().view(b, num_tokens, self.d_out)\n",
    "        context_vec = self.out_proj(context_vec) # optional projection\n",
    "\n",
    "        return context_vec"
   ]
  },
  {
   "cell_type": "markdown",
   "id": "fec4cfa7-040e-4008-9be3-e927c71ee8d8",
   "metadata": {},
   "source": [
    "## Layer normalization, GELU activation and feed forward network"
   ]
  },
  {
   "cell_type": "code",
   "execution_count": 4,
   "id": "c1b1afd5-349b-48cf-8f22-36812db15dae",
   "metadata": {},
   "outputs": [],
   "source": [
    "class LayerNorm(nn.Module):\n",
    "    def __init__(self, emb_dim):\n",
    "        super().__init__()\n",
    "        self.eps = 1e-5\n",
    "        self.scale = nn.Parameter(torch.ones(emb_dim))\n",
    "        self.shift = nn.Parameter(torch.zeros(emb_dim))\n",
    "\n",
    "    def forward(self, x):\n",
    "        mean = x.mean(dim=-1, keepdim=True)\n",
    "        var = x.var(dim=-1, keepdim=True, unbiased=False)\n",
    "        norm_x = (x - mean) / torch.sqrt(var + self.eps)\n",
    "        return self.scale * norm_x + self.shift\n",
    "\n",
    "class GELU(nn.Module):\n",
    "    def __init__(self):\n",
    "        super().__init__()\n",
    "\n",
    "    def forward(self, x):\n",
    "        return 0.5 * x * (1 + torch.tanh(\n",
    "            torch.sqrt(torch.tensor(2.0 / torch.pi)) * \n",
    "            (x + 0.044715 * torch.pow(x, 3))\n",
    "        ))\n",
    "\n",
    "\n",
    "class FeedForward(nn.Module):\n",
    "    def __init__(self, cfg):\n",
    "        super().__init__()\n",
    "        self.layers = nn.Sequential(\n",
    "            nn.Linear(cfg[\"emb_dim\"], 4 * cfg[\"emb_dim\"]), ## Expansion\n",
    "            GELU(), ## Activation\n",
    "            nn.Linear(4 * cfg[\"emb_dim\"], cfg[\"emb_dim\"]), ## Contraction\n",
    "        )\n",
    "\n",
    "    def forward(self, x):\n",
    "        return self.layers(x)"
   ]
  },
  {
   "cell_type": "markdown",
   "id": "d0b3cadd-133f-4b92-a6bd-ddf8a0212fe6",
   "metadata": {},
   "source": [
    "## Transformer block "
   ]
  },
  {
   "cell_type": "code",
   "execution_count": 5,
   "id": "fcd532af-0d92-4022-8493-25fd39b23c20",
   "metadata": {},
   "outputs": [],
   "source": [
    "class TransformerBlock(nn.Module):\n",
    "    def __init__(self, cfg):\n",
    "        super().__init__()\n",
    "        self.att = MultiHeadAttention(\n",
    "            d_in=cfg[\"emb_dim\"],\n",
    "            d_out=cfg[\"emb_dim\"],\n",
    "            context_length=cfg[\"context_length\"],\n",
    "            num_heads=cfg[\"n_heads\"], \n",
    "            dropout=cfg[\"drop_out\"],\n",
    "            qkv_bias=cfg[\"qkv_bias\"])\n",
    "        self.ff = FeedForward(cfg)\n",
    "        self.norm1 = LayerNorm(cfg[\"emb_dim\"])\n",
    "        self.norm2 = LayerNorm(cfg[\"emb_dim\"])\n",
    "        self.drop_shortcut = nn.Dropout(cfg[\"drop_out\"])\n",
    "\n",
    "    def forward(self, x):\n",
    "        # Shortcut connection for attention block\n",
    "        shortcut = x\n",
    "        x = self.norm1(x)\n",
    "        x = self.att(x)  # Shape [batch_size, num_tokens, emb_size]\n",
    "        x = self.drop_shortcut(x)\n",
    "        x = x + shortcut  # Add the original input back\n",
    "\n",
    "        # Shortcut connection for feed forward block\n",
    "        shortcut = x\n",
    "        x = self.norm2(x)\n",
    "        x = self.ff(x)\n",
    "        # 2*4*768\n",
    "        x = self.drop_shortcut(x)\n",
    "        x = x + shortcut  # Add the original input back\n",
    "\n",
    "        return x\n",
    "        # 2*4*768"
   ]
  },
  {
   "cell_type": "markdown",
   "id": "9fa434b2-d1cc-4aa9-8661-e211ef2d906e",
   "metadata": {},
   "source": [
    "## GPTModel"
   ]
  },
  {
   "cell_type": "code",
   "execution_count": 6,
   "id": "ee20d05c-89a2-48a1-9591-a04c0b458487",
   "metadata": {},
   "outputs": [],
   "source": [
    "class GPTModel(nn.Module):\n",
    "    def __init__(self, cfg):\n",
    "        super().__init__()\n",
    "        self.tok_emb = nn.Embedding(cfg[\"vocab_size\"], cfg[\"emb_dim\"])\n",
    "        self.pos_emb = nn.Embedding(cfg[\"context_length\"], cfg[\"emb_dim\"])\n",
    "        self.drop_emb = nn.Dropout(cfg[\"drop_out\"])\n",
    "        \n",
    "        self.trf_blocks = nn.Sequential(\n",
    "            *[TransformerBlock(cfg) for _ in range(cfg[\"n_layers\"])])\n",
    "        \n",
    "        self.final_norm = LayerNorm(cfg[\"emb_dim\"])\n",
    "        \n",
    "        self.out_head = nn.Linear(cfg[\"emb_dim\"], cfg[\"vocab_size\"], bias=False)\n",
    "        # weight tying scheme\n",
    "        self.out_head.weight = self.tok_emb.weight\n",
    "\n",
    "    def forward(self, in_idx):\n",
    "        batch_size, seq_len = in_idx.shape\n",
    "        tok_embeds = self.tok_emb(in_idx)\n",
    "        pos_embeds = self.pos_emb(torch.arange(seq_len, device=in_idx.device))\n",
    "        x = tok_embeds + pos_embeds  # Shape [batch_size, num_tokens, emb_size]\n",
    "        x = self.drop_emb(x)\n",
    "        x = self.trf_blocks(x)\n",
    "        x = self.final_norm(x)\n",
    "        logits = self.out_head(x)\n",
    "        return logits"
   ]
  },
  {
   "cell_type": "markdown",
   "id": "7899b0c3-ac39-4c89-96be-23a56f13e4bd",
   "metadata": {},
   "source": [
    "## device agnostic code"
   ]
  },
  {
   "cell_type": "code",
   "execution_count": 7,
   "id": "d70c412e-6c64-4c3d-9c1f-4fc030f46d62",
   "metadata": {},
   "outputs": [
    {
     "data": {
      "text/plain": [
       "'cuda'"
      ]
     },
     "execution_count": 7,
     "metadata": {},
     "output_type": "execute_result"
    }
   ],
   "source": [
    "device = \"cuda\" if torch.cuda.is_available() else 'cpu'\n",
    "device"
   ]
  },
  {
   "cell_type": "markdown",
   "id": "79d31bf9-cf32-457b-997e-13c93f6187e2",
   "metadata": {},
   "source": [
    "## Creating an instance of GPTModel class"
   ]
  },
  {
   "cell_type": "code",
   "execution_count": 8,
   "id": "e4340679-7aa7-4fdd-ae8d-89a2486f6ce4",
   "metadata": {},
   "outputs": [],
   "source": [
    "gpt = GPTModel(cfg)"
   ]
  },
  {
   "cell_type": "code",
   "execution_count": 9,
   "id": "3dcaeda3-95d3-42a7-905c-5b3acd6efafb",
   "metadata": {},
   "outputs": [
    {
     "name": "stdout",
     "output_type": "stream",
     "text": [
      "GPT2 total parameters: 124.4398M\n"
     ]
    }
   ],
   "source": [
    "gpt_size = sum(p.numel() for p in gpt.parameters())\n",
    "print(f\"GPT2 total parameters: {gpt_size/1000000:.4f}M\")"
   ]
  },
  {
   "cell_type": "code",
   "execution_count": 10,
   "id": "ab6929e1-2ae0-417d-ac3a-6b4f3ca10ec3",
   "metadata": {},
   "outputs": [
    {
     "data": {
      "text/plain": [
       "<All keys matched successfully>"
      ]
     },
     "execution_count": 10,
     "metadata": {},
     "output_type": "execute_result"
    }
   ],
   "source": [
    "gpt.load_state_dict(torch.load('../model1.pth'))"
   ]
  },
  {
   "cell_type": "code",
   "execution_count": 11,
   "id": "21b9d3d4-9d48-48fb-a783-5bf7d2cd1907",
   "metadata": {},
   "outputs": [],
   "source": [
    "def generate(model, idx, max_new_tokens, context_size, temperature=0.0, top_k=None, eos_id=50256):\n",
    "\n",
    "    # print(\"using device: \", device)\n",
    "    model.to(device)\n",
    "\n",
    "    # For-loop is the same as before: Get logits, and only focus on last time step\n",
    "    for _ in range(max_new_tokens):\n",
    "        idx_cond = idx[:, -context_size:]\n",
    "        with torch.no_grad():\n",
    "            logits = model(idx_cond)\n",
    "        logits = logits[:, -1, :]\n",
    "\n",
    "        # New: Filter logits with top_k sampling\n",
    "        if top_k is not None:\n",
    "            # Keep only top_k values\n",
    "            top_logits, _ = torch.topk(logits, top_k)\n",
    "            min_val = top_logits[:, -1]\n",
    "            logits = torch.where(logits < min_val, torch.tensor(float(\"-inf\")).to(logits.device), logits)\n",
    "\n",
    "        # New: Apply temperature scaling\n",
    "        if temperature > 0.0:\n",
    "            logits = logits / temperature\n",
    "\n",
    "            # Apply softmax to get probabilities\n",
    "            probs = torch.softmax(logits, dim=-1)  # (batch_size, context_len)\n",
    "\n",
    "            # Sample from the distribution\n",
    "            idx_next = torch.multinomial(probs, num_samples=1)  # (batch_size, 1)\n",
    "\n",
    "        # Otherwise same as before: get idx of the vocab entry with the highest logits value\n",
    "        else:\n",
    "            idx_next = torch.argmax(logits, dim=-1, keepdim=True)  # (batch_size, 1)\n",
    "\n",
    "        if idx_next.item() == eos_id:\n",
    "            break\n",
    "\n",
    "        # Same as before: append sampled index to the running sequence\n",
    "        idx = torch.cat((idx, idx_next), dim=1)  # (batch_size, num_tokens+1)\n",
    "\n",
    "    return idx"
   ]
  },
  {
   "cell_type": "code",
   "execution_count": 19,
   "id": "b7fca88a-4aed-4805-88e1-270561d3ed60",
   "metadata": {},
   "outputs": [
    {
     "name": "stdout",
     "output_type": "stream",
     "text": [
      "What basketball is? Basketball is a sport that is played on a court with two hoops, each 42-minute long range on a court. In the sport, it is a sport played on a pitch with a\n"
     ]
    }
   ],
   "source": [
    "input = \"What basketball\"\n",
    "encoded = torch.tensor(tokenizer.encode(input), device=device).unsqueeze(0)\n",
    "new_tok = generate(gpt, encoded, max_new_tokens=40, context_size=cfg['context_length'], temperature=0.7, top_k=50).squeeze()\n",
    "new_tok = new_tok.tolist()\n",
    "\n",
    "print(tokenizer.decode(new_tok))"
   ]
  },
  {
   "cell_type": "code",
   "execution_count": null,
   "id": "3c536811-60f5-4f00-9f3e-eb3a6f4a8cc9",
   "metadata": {},
   "outputs": [],
   "source": []
  },
  {
   "cell_type": "code",
   "execution_count": null,
   "id": "e158f23a-f97c-467a-9b0d-f7234ff7f2e3",
   "metadata": {},
   "outputs": [],
   "source": []
  },
  {
   "cell_type": "code",
   "execution_count": 93,
   "id": "0066d118-e830-4d1d-a1e3-236443edc9e0",
   "metadata": {},
   "outputs": [],
   "source": [
    "## I trained the pre-trained gpt2 on some general dataset which consist of general knowledge\n",
    "## Now the model is performing good, but it takes few tries to get correct defination"
   ]
  },
  {
   "cell_type": "code",
   "execution_count": 99,
   "id": "812d09dc-3f2b-4720-8133-7d8cf07668bc",
   "metadata": {},
   "outputs": [],
   "source": [
    "## this class helps to prepare the dataset in numerical form, which returns x and y (x inputs, y targets which is shifted by one position)\n",
    "## this is also called as preprocessing the data, where according to the data we can modify and feed it to our model\n",
    "class GPTDatasetV1(Dataset):\n",
    "    def __init__(self, txt, tokenizer, max_length, stride):\n",
    "        self.input_ids = []\n",
    "        self.target_ids = []\n",
    "\n",
    "        token_ids = tokenizer.encode(txt, allowed_special={'<|endoftext|>'})\n",
    "        for i in range(0, len(token_ids)- max_length, stride):\n",
    "            input_chunk = token_ids[i: i + max_length]\n",
    "            target_chunk = token_ids[i + 1: i + max_length + 1]\n",
    "            self.input_ids.append(torch.tensor(input_chunk, dtype=torch.long))\n",
    "            self.target_ids.append(torch.tensor(target_chunk, dtype=torch.long))\n",
    "\n",
    "            \n",
    "    def __len__(self):\n",
    "        return len(self.input_ids)\n",
    "\n",
    "    def __getitem__(self, idx):\n",
    "        return self.input_ids[idx], self.target_ids[idx]"
   ]
  },
  {
   "cell_type": "code",
   "execution_count": 100,
   "id": "11907e9b-c203-4f55-bc76-4a2400ec3371",
   "metadata": {},
   "outputs": [],
   "source": [
    "def create_dataloader_v1(txt, batch_size=8, max_length=256, stride=128, shuffle=False, drop_last=True, num_workers=0):\n",
    "\n",
    "    dataset = GPTDatasetV1(txt, tokenizer, max_length, stride)\n",
    "    dataloader = DataLoader(dataset, \n",
    "                            batch_size=batch_size,  \n",
    "                            shuffle=shuffle, \n",
    "                            drop_last=drop_last, \n",
    "                            num_workers=num_workers)\n",
    "    return dataloader\n",
    "    "
   ]
  },
  {
   "cell_type": "code",
   "execution_count": 101,
   "id": "0053461e-d0e8-453d-b331-3b570dcb11c8",
   "metadata": {},
   "outputs": [
    {
     "data": {
      "text/plain": [
       "11955778"
      ]
     },
     "execution_count": 101,
     "metadata": {},
     "output_type": "execute_result"
    }
   ],
   "source": [
    "# reading a file\n",
    "import re\n",
    "with open('../LLM_from_scratch/TrainingData/dollyData_cleaned.txt', encoding='utf-8') as f:\n",
    "    raw_text = f.read()\n",
    "len(raw_text)"
   ]
  },
  {
   "cell_type": "code",
   "execution_count": 102,
   "id": "e8324530-44b9-49f5-908a-1f6696d6e285",
   "metadata": {},
   "outputs": [],
   "source": [
    "# splitting the training and validation part\n",
    "split = int(len(raw_text) * 0.95)\n",
    "train_data = raw_text[:split]\n",
    "test_data = raw_text[split:]"
   ]
  },
  {
   "cell_type": "code",
   "execution_count": 103,
   "id": "a180e0ac-ca8e-4b8b-8558-4988e7d8e2da",
   "metadata": {},
   "outputs": [
    {
     "data": {
      "text/plain": [
       "(11357989, 597789)"
      ]
     },
     "execution_count": 103,
     "metadata": {},
     "output_type": "execute_result"
    }
   ],
   "source": [
    "train_loader = create_dataloader_v1(train_data, batch_size=6, max_length=256, stride=128, shuffle=False, drop_last=True, num_workers=0)\n",
    "val_loader = create_dataloader_v1(test_data, batch_size=6, max_length=256, stride=128, shuffle=False, drop_last=True, num_workers=0)\n",
    "len(train_data), len(test_data)"
   ]
  },
  {
   "cell_type": "code",
   "execution_count": 104,
   "id": "86c64662-1766-4372-9ab3-b756f49ddc2d",
   "metadata": {},
   "outputs": [
    {
     "name": "stdout",
     "output_type": "stream",
     "text": [
      "3179\n"
     ]
    }
   ],
   "source": [
    "# couting how many pairs of input and target are there in total\n",
    "count = 0\n",
    "for input, target in train_loader:\n",
    "    count += 1\n",
    "    # print(input.shape,target.shape)\n",
    "    # print(f\"input: {input} \\ntarget: {target}\")\n",
    "print(count)"
   ]
  },
  {
   "cell_type": "code",
   "execution_count": 105,
   "id": "1d6c49cc-6c2f-42db-bf2a-c855091b8b73",
   "metadata": {},
   "outputs": [],
   "source": [
    "# creating optimizer and loss fucntion\n",
    "\n",
    "import time\n",
    "loss_fn = nn.CrossEntropyLoss()\n",
    "optimizer = torch.optim.AdamW(gpt.parameters(), lr=3e-4, weight_decay=1e-2)"
   ]
  },
  {
   "cell_type": "code",
   "execution_count": 107,
   "id": "00fcf18f-7651-4c50-9acc-7840d3312b8f",
   "metadata": {},
   "outputs": [],
   "source": [
    "# training starts here\n",
    "epochs = 10\n",
    "device = \"cuda\" if torch.cuda.is_available() else \"cpu\"\n",
    "\n",
    "gpt.to(device)\n",
    "scaler = torch.amp.GradScaler('cuda')\n",
    "\n",
    "start_time = time.perf_counter()\n",
    "\n",
    "for epoch in range(epochs):\n",
    "    gpt.train()\n",
    "    total_train_loss = 0.0\n",
    "\n",
    "    for x, y in train_loader:\n",
    "        x, y = x.to(device), y.to(device)\n",
    "        optimizer.zero_grad()\n",
    "\n",
    "        # Forward + loss in mixed precision\n",
    "        with torch.amp.autocast('cuda'):\n",
    "            logits = gpt(x)\n",
    "            logits = logits.reshape(-1, logits.size(-1))\n",
    "            y = y.reshape(-1)\n",
    "            loss = loss_fn(logits, y)\n",
    "\n",
    "        # Backward with scaled loss\n",
    "        scaler.scale(loss).backward()\n",
    "\n",
    "        # Clip gradients (unscale first)\n",
    "        scaler.unscale_(optimizer)\n",
    "        torch.nn.utils.clip_grad_norm_(gpt.parameters(), max_norm=1.0)\n",
    "\n",
    "        # Optimizer step with scaler\n",
    "        scaler.step(optimizer)\n",
    "        scaler.update()\n",
    "\n",
    "        total_train_loss += loss.item()\n",
    "\n",
    "    avg_train_loss = total_train_loss / len(train_loader)\n",
    "\n",
    "    # Validation\n",
    "    gpt.eval()\n",
    "    total_val_loss = 0.0\n",
    "    with torch.no_grad():\n",
    "        for x, y in val_loader:\n",
    "            x, y = x.to(device), y.to(device)\n",
    "            with torch.amp.autocast('cuda'):\n",
    "                logits = gpt(x)\n",
    "                logits = logits.reshape(-1, logits.size(-1))\n",
    "                y = y.reshape(-1)\n",
    "                val_loss = loss_fn(logits, y)\n",
    "            total_val_loss += val_loss.item()\n",
    "\n",
    "    avg_val_loss = total_val_loss / len(val_loader)\n",
    "    \n",
    "    end_time = time.perf_counter()\n",
    "    total_time = (end_time - start_time)\n",
    "\n",
    "    print(f\"Epoch {epoch+1} | \"\n",
    "          f\"Train Loss: {avg_train_loss:.4f} | \"\n",
    "          f\"Val Loss: {avg_val_loss:.4f} | \"\n",
    "          f\"time: {total_time:.2f} sec\")"
   ]
  },
  {
   "cell_type": "markdown",
   "id": "240d1d0a-129d-4acc-a127-087d3188c17c",
   "metadata": {},
   "source": [
    "###### Epoch 1 | Train Loss: 2.5036 | Val Loss: 3.4717 | time: 11739.86 sec\n",
    "###### Epoch 2 | Train Loss: 2.0603 | Val Loss: 3.5833 | time: 23478.83 sec\n",
    "###### Epoch 3 | Train Loss: 1.6987 | Val Loss: 3.7992 | time: 35220.40 sec\n",
    "###### Epoch 4 | Train Loss: 1.4174 | Val Loss: 4.0462 | time: 46968.51 sec\n",
    "###### Epoch 5 | Train Loss: 1.1946 | Val Loss: 4.4120 | time: 58711.07 sec\n",
    "###### Epoch 6 | Train Loss: 1.0185 | Val Loss: 4.6628 | time: 70452.31 sec\n",
    "###### Epoch 7 | Train Loss: 0.8773 | Val Loss: 4.9774 | time: 82193.95 sec\n",
    "###### Epoch 8 | Train Loss: 0.7647 | Val Loss: 5.2615 | time: 93933.10 sec\n",
    "###### Epoch 9 | Train Loss: 0.6744 | Val Loss: 5.5343 | time: 105671.69 sec\n",
    "###### Epoch 10 | Train Loss: 0.6025 | Val Loss: 5.7923 | time: 117409.76 sec"
   ]
  },
  {
   "cell_type": "markdown",
   "id": "6849a479-de23-4a0d-ba17-2c8f31c858b9",
   "metadata": {},
   "source": [
    "## In total it took 117409.76 sec roughly 32.5 hours to train (dataset size is 11.42mb)\n",
    "##### Probably i could increase the batch size to reduce the time, but due to limited vram i stick with batch size of 6"
   ]
  },
  {
   "cell_type": "code",
   "execution_count": 120,
   "id": "f441ca8b-83a9-4a3d-aa54-08afd6eee8ec",
   "metadata": {},
   "outputs": [
    {
     "data": {
      "text/plain": [
       "'what is java a programming language that is very high-level and very easy to learn.  It was invented as a high-level programming language that was used to encourage fast and easy coding skills development. '"
      ]
     },
     "execution_count": 120,
     "metadata": {},
     "output_type": "execute_result"
    }
   ],
   "source": [
    "# testing the model\n",
    "input = \"what is java\"\n",
    "encoded = torch.tensor(tokenizer.encode(input), device=device).unsqueeze(0)\n",
    "new_tok = generate(gpt, encoded, max_new_tokens=40, context_size=cfg['context_length'], temperature=0.7, top_k=50).squeeze()\n",
    "new_tok = new_tok.tolist()\n",
    "tokenizer.decode(new_tok)"
   ]
  },
  {
   "cell_type": "code",
   "execution_count": 121,
   "id": "73f6bd04-e56c-4656-a069-b287983a9b96",
   "metadata": {},
   "outputs": [],
   "source": [
    "## saving the model's parameters \n",
    "torch.save(gpt.state_dict(), \"model2.pth\")"
   ]
  },
  {
   "cell_type": "code",
   "execution_count": null,
   "id": "fce2ed48-3f57-4623-b4ba-869e86a33ba8",
   "metadata": {},
   "outputs": [],
   "source": []
  }
 ],
 "metadata": {
  "kernelspec": {
   "display_name": "Python 3 (ipykernel)",
   "language": "python",
   "name": "python3"
  },
  "language_info": {
   "codemirror_mode": {
    "name": "ipython",
    "version": 3
   },
   "file_extension": ".py",
   "mimetype": "text/x-python",
   "name": "python",
   "nbconvert_exporter": "python",
   "pygments_lexer": "ipython3",
   "version": "3.13.5"
  }
 },
 "nbformat": 4,
 "nbformat_minor": 5
}
